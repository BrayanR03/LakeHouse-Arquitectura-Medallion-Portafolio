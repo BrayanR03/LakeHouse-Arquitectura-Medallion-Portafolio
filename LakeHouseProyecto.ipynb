{
 "cells": [
  {
   "cell_type": "markdown",
   "metadata": {
    "application/vnd.databricks.v1+cell": {
     "cellMetadata": {},
     "inputWidgets": {},
     "nuid": "1ff34b5f-0f4c-4071-8690-72113ebdbeed",
     "showTitle": false,
     "tableResultSettingsMap": {},
     "title": ""
    }
   },
   "source": [
    "## 📘 Arquitectura Medallion aplicada a un Lakehouse en Databricks\n"
   ]
  },
  {
   "cell_type": "markdown",
   "metadata": {
    "application/vnd.databricks.v1+cell": {
     "cellMetadata": {},
     "inputWidgets": {},
     "nuid": "0c09e235-3ac8-4948-bd59-da0cb0868d8f",
     "showTitle": false,
     "tableResultSettingsMap": {},
     "title": ""
    }
   },
   "source": [
    "🛠️ Flujo de datos \"\" Bronce → Plata → Oro \"\" usando Delta Lake y Volúmenes de Unity Catalog\n",
    "\n",
    "🖋️ Autor: Brayan R. Neciosup Bolaños"
   ]
  },
  {
   "cell_type": "markdown",
   "metadata": {
    "application/vnd.databricks.v1+cell": {
     "cellMetadata": {},
     "inputWidgets": {},
     "nuid": "c707f879-4cc6-4dfa-8d9f-d07d326fa661",
     "showTitle": false,
     "tableResultSettingsMap": {},
     "title": ""
    }
   },
   "source": [
    "🎯 Objetivo\n",
    "Aplicar la arquitectura Medallion construyendo un flujo de datos limpio, modular y gobernable sobre Databricks, empleando volúmenes, tablas Delta y transformaciones Spark SQL."
   ]
  },
  {
   "cell_type": "code",
   "execution_count": 0,
   "metadata": {
    "application/vnd.databricks.v1+cell": {
     "cellMetadata": {
      "byteLimit": 2048000,
      "rowLimit": 10000
     },
     "inputWidgets": {},
     "nuid": "6728f887-94ce-4ccd-8b56-462002f466a8",
     "showTitle": false,
     "tableResultSettingsMap": {},
     "title": ""
    }
   },
   "outputs": [],
   "source": [
    "\"\"\"\n",
    "    💡 COMO SE UTILIZARÁ EL SERVICIO DE UNTY CATALOG, CREAREMOS UN CATALAGO QUE ALMACENARA TODAS LAS CAPAS\n",
    "        DE LA ARQUITECTURA MEDALLION EN ESQUEMAS INDEPENDIENTES. \n",
    "\"\"\"\n",
    "from pyspark.sql import SparkSession # Puerta de acceso a todas las funcionalidades de apache spark\n",
    "from pyspark.sql.functions import * # Funciones SQL\n",
    "from pyspark.sql.types import * # Funciones de tipos de datos\n",
    "spark = SparkSession.builder.appName(\"LakehouseDatabricksMedallion\").getOrCreate()\n",
    "\n",
    "###✅ CREACIÓN DEL CATÁLAGO\n",
    "spark.sql(\"CREATE CATALOG IF NOT EXISTS lakehouse\")\n",
    "print(\"Catálago creado para almacenar la Arquitectura Medallion\")"
   ]
  },
  {
   "cell_type": "markdown",
   "metadata": {
    "application/vnd.databricks.v1+cell": {
     "cellMetadata": {},
     "inputWidgets": {},
     "nuid": "8d45078b-5f46-4060-9c9d-98c2a85f0fbb",
     "showTitle": false,
     "tableResultSettingsMap": {},
     "title": ""
    }
   },
   "source": [
    "#### Capa Bronce (Raw Layer) 🥉"
   ]
  },
  {
   "cell_type": "code",
   "execution_count": 0,
   "metadata": {
    "application/vnd.databricks.v1+cell": {
     "cellMetadata": {
      "byteLimit": 2048000,
      "rowLimit": 10000
     },
     "inputWidgets": {},
     "nuid": "13449544-0199-4ad5-9146-2f42d2020250",
     "showTitle": false,
     "tableResultSettingsMap": {},
     "title": ""
    }
   },
   "outputs": [],
   "source": [
    "\"\"\"\n",
    "  📝 BRONZE LAYER 🥉\n",
    "\"\"\"\n",
    "## 1️⃣ CREAMOS ESQUEMA DENTRO DEL CATÁLAGO >>LAKEHOUSE<< QUE REPRESENTARÁ BRONZE LAYER\n",
    "spark.sql(\"CREATE SCHEMA IF NOT EXISTS lakehouse.bronze_layer\")\n",
    "print(\"Se creó la capa BRONZE LAYER\")\n",
    "ventas = spark.table(\"workspace.default.ventas\") ### ⬅️ CARGAMOS ARCHIVO DE FUENTE DE DATO.\n",
    "# ventas.show(6)\n",
    "\n",
    "## 2️⃣ ALMACENAMOS EL ARCHIVO >>VENTAS<< EN BRONZE LAYER\n",
    "ventas.write.format(\"delta\").mode(\"overwrite\").saveAsTable(\"lakehouse.bronze_layer.ventas_bronze\")\n",
    "print(\"Archivo ventas almacenado en la capa BRONZE LAYER\")\n",
    "\n",
    "## 3️⃣ VERFIFICAMOS LOS TIPOS DE DATOS POR COLUMNA.\n",
    "ventas_bronze_layer = spark.sql(\"SELECT * FROM lakehouse.bronze_layer.ventas_bronze\")\n",
    "# ventas_bronze_layer.printSchema()\n",
    "\n",
    "## 4️⃣ VERIFICAMOS DATOS NULOS EN EL DATASET.\n",
    "ventas_bronze_layer_nulos = ventas_bronze_layer.select([\n",
    "    sum(when(col(i).isNull(),1).otherwise(0)).alias(i)\n",
    "    for i in ventas_bronze_layer.columns\n",
    "])\n",
    "# ventas_bronze_layer_nulos.show()\n",
    "\n",
    "## 🗒️ OBSERVACIONES\n",
    "## 📌 Los tipos de datos encontrados por columna fueron:\n",
    "        # |-- id_venta: long (nullable = true)\n",
    "        # |-- producto: string (nullable = true)\n",
    "        # |-- categoria: string (nullable = true)\n",
    "        # |-- cantidad: long (nullable = true)\n",
    "        # |-- precio_unitario: double (nullable = true)\n",
    "        # |-- fecha_venta: date (nullable = true)\n",
    "## 📌 No existen valores nulos en todo el dataset.\n",
    "print(\"CÓDIGO DE BRONZE LAYER FINALIZADO\")"
   ]
  },
  {
   "cell_type": "markdown",
   "metadata": {
    "application/vnd.databricks.v1+cell": {
     "cellMetadata": {},
     "inputWidgets": {},
     "nuid": "ecf9c517-f9ff-4338-b459-66c932b3871a",
     "showTitle": false,
     "tableResultSettingsMap": {},
     "title": ""
    }
   },
   "source": [
    "#### Capa Plata (Staging Layer) 🥈"
   ]
  },
  {
   "cell_type": "code",
   "execution_count": 0,
   "metadata": {
    "application/vnd.databricks.v1+cell": {
     "cellMetadata": {
      "byteLimit": 2048000,
      "rowLimit": 10000
     },
     "inputWidgets": {},
     "nuid": "64d63bdf-3c81-484c-b912-efbeaf4d6b86",
     "showTitle": false,
     "tableResultSettingsMap": {},
     "title": ""
    }
   },
   "outputs": [],
   "source": [
    "\"\"\"\n",
    "  📝 SILVER LAYER 🥈\n",
    "\"\"\"\n",
    "## 1️⃣ CREAMOS ESQUEMA DENTRO DEL CATÁLAGO >>LAKEHOUSE<< QUE REPRESENTARÁ SILVER LAYER\n",
    "spark.sql(\"CREATE SCHEMA IF NOT EXISTS lakehouse.silver_layer\")\n",
    "print(\"Se creó la capa SILVER LAYER\")\n",
    "\n",
    "## 2️⃣ LEEMOS DATOS DEL ARCHIVO ALMACENADO EN BRONZE LAYER 🥉\n",
    "ventas_bronze = spark.sql(\"SELECT * FROM lakehouse.bronze_layer.ventas_bronze\")\n",
    "# ventas_bronze.show(6)\n",
    "\n",
    "## 3️⃣ FILTRAMOS VALORES NULOS (ESTE PASO SE COLOCARÁ DE EJEMPLO, PORQUE ANTERIORMENTE VIMOS QUE NO EXISTÍAN NULOS)\n",
    "##---- VERFIFICAMOS NULOS\n",
    "nulos_ventas_bronze = ventas_bronze.select([\n",
    "  sum(when(col(i).isNull(),1).otherwise(0)).alias(i)\n",
    "  for i in ventas_bronze.columns\n",
    "])\n",
    "# nulos_ventas_bronze.show(5)\n",
    "##---- FILTRAMOS NULOS Y CREAMOS NUEVO ARCHIVO DE VENTAS\n",
    "ventas_silver_layer = ventas_bronze.select([\n",
    "  when(col(i).isNotNull(),col(i)).alias(i)\n",
    "  for i in ventas_bronze.columns\n",
    "])\n",
    "\n",
    "## 4️⃣ ESTANDARIZAMOS VALORES EN LAS COLUMNAS\n",
    "#------ Quitamos guiones entre la información y capitalizamos.\n",
    "import re\n",
    "ventas_silver_layer = ventas_silver_layer.select([\n",
    "    col(re.sub(r'\\s',\"_\",i).title()).alias(i) \n",
    "    for i in ventas_silver_layer.columns\n",
    "])\n",
    "# ventas_silver_layer.show(5)\n",
    "\n",
    "#------ Creamos columna adicional para calcular el total de venta\n",
    "ventas_silver_layer = ventas_silver_layer.withColumn(\n",
    "  \"total_venta\",\n",
    "  round((col(\"cantidad\")*col(\"precio_unitario\")),2)\n",
    ")\n",
    "# ventas_silver_layer.show(5)\n",
    "ventas_silver_layer.write.format(\"delta\").saveAsTable(\"lakehouse.silver_layer.ventas_silver\")\n",
    "print(\"TABLA SILVER LISTA PARA SER UTILZIADA EN LA SIGUIENTE CAPA\")\n",
    "## 🗒️ OBSERVACIONES\n",
    "## 📌 No existen valores nulos en todo el dataset.\n",
    "## 📌 Estandarizamos valores en las columnas.\n",
    "## 📌 Creamos columna adicional para calcular el total de venta.\n",
    "print(\"CÓDIGO DE SILVER LAYER FINALIZADO\")"
   ]
  },
  {
   "cell_type": "markdown",
   "metadata": {
    "application/vnd.databricks.v1+cell": {
     "cellMetadata": {},
     "inputWidgets": {},
     "nuid": "941cb260-1b6d-4130-9630-0b15ad6d7c85",
     "showTitle": false,
     "tableResultSettingsMap": {},
     "title": ""
    }
   },
   "source": [
    "#### Capa Oro (Curated Layer) 🥇"
   ]
  },
  {
   "cell_type": "code",
   "execution_count": 0,
   "metadata": {
    "application/vnd.databricks.v1+cell": {
     "cellMetadata": {
      "byteLimit": 2048000,
      "rowLimit": 10000
     },
     "inputWidgets": {},
     "nuid": "efeb8593-5e40-4700-9296-e48a623c2d8f",
     "showTitle": false,
     "tableResultSettingsMap": {},
     "title": ""
    }
   },
   "outputs": [],
   "source": [
    "\"\"\"\n",
    "  📝 GOLD LAYER 🥇\n",
    "\"\"\"\n",
    "## 1️⃣ CREAMOS ESQUEMA DENTRO DEL CATÁLAGO >>LAKEHOUSE<< QUE REPRESENTARÁ GOLD LAYER\n",
    "spark.sql(\"CREATE SCHEMA IF NOT EXISTS lakehouse.gold_layer\")\n",
    "print(\"Se creó la capa GOLD LAYER\")\n",
    "\n",
    "## 2️⃣ LEEMOS DATOS DEL ARCHIVO ALMACENADO EN SILVER LAYER 🥉\n",
    "ventas_silver = spark.sql(\"SELECT * FROM lakehouse.silver_layer.ventas_silver\")\n",
    "# ventas_silver.show(5)\n",
    "## 3️⃣ GENERAMOS MÉTRICAS RICAS EN CONOCIMIENTO\n",
    "\"\"\"\n",
    "  Realizamos los requerimientos que pueden ser consumidos en dashboards o reportes.\n",
    "  Como sabrás, esta capa está orientada a información rica en conocimiento, lista\n",
    "  para métricas rápidas y analítica avanzada.\n",
    "\"\"\"\n",
    "##---------- Total de ventas y Promedio de ventas por categoría 📊\n",
    "resumen_categorias = ventas_silver.groupBy(\"categoria\").agg(\n",
    "  round(sum(col(\"total_venta\")),2).alias(\"total_ventas_categorias\"),\n",
    "  round(avg(col(\"total_venta\")),2).alias(\"avg_total_ventas_categorias\")\n",
    ")\n",
    "# resumen_categorias.show()\n",
    "\n",
    "##---------- Top 5 productos con mayor cantidad vendidas 📊\n",
    "from pyspark.sql.window import Window ##⬅️ Permite trabajar con ventanas deslizantes\n",
    "window_especificacion = Window.orderBy(col(\"total_venta\").desc())\n",
    "ranking_productos = ventas_silver.select(\n",
    "  \"*\",\n",
    "  rank().over(window_especificacion).alias(\"ranking_productos\")\n",
    ")\n",
    "# ranking_productos.show() ## Ranking de todos los productos\n",
    "\n",
    "top_5_productos = ranking_productos.filter(\n",
    "  (col(\"ranking_productos\")<=5)\n",
    ")\n",
    "# top_5_productos.show()\n",
    "\n",
    "## 4️⃣ ALMACENAMOS AMBAS METRICAS EN GOLD LAYER, PARA UN CONSUMO POSTERIOR \n",
    "resumen_categorias.write.format(\"delta\").mode(\"overwrite\").saveAsTable(\"lakehouse.gold_layer.metricas_categorias\")\n",
    "print(\"Resumen de ventas de categorías almacenadas en GOLD LAYER\")\n",
    "ranking_productos.write.format(\"delta\").mode(\"overwrite\").saveAsTable(\"lakehouse.gold_layer.metrica_ranking_productos\")\n",
    "print(\"Ranking de productos con mayor monto de venta almacenados en GOLD LAYER\")\n",
    "top_5_productos.write.format(\"delta\").mode(\"overwrite\").saveAsTable(\"lakehouse.gold_layer.metrica_top_5_productos\")\n",
    "print(\"Top 5 productos con mayor monto de venta almacenados en GOLD LAYER\")\n",
    "print(\"CÓDIGO DE GOLD LAYER FINALIZADO\")"
   ]
  }
 ],
 "metadata": {
  "application/vnd.databricks.v1+notebook": {
   "computePreferences": null,
   "dashboards": [],
   "environmentMetadata": {
    "base_environment": "",
    "environment_version": "2"
   },
   "inputWidgetPreferences": null,
   "language": "python",
   "notebookMetadata": {
    "pythonIndentUnit": 4
   },
   "notebookName": "LakeHouseProyecto",
   "widgets": {}
  },
  "language_info": {
   "name": "python"
  }
 },
 "nbformat": 4,
 "nbformat_minor": 0
}
